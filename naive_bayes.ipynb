{
 "cells": [
  {
   "cell_type": "code",
   "execution_count": 2,
   "metadata": {},
   "outputs": [],
   "source": [
    "import pandas as pd\n",
    "import matplotlib.pyplot as plt"
   ]
  },
  {
   "cell_type": "code",
   "execution_count": 3,
   "metadata": {},
   "outputs": [],
   "source": [
    "data=pd.read_csv(\"Andbrain_DataSet.csv\",delimiter=\",\")"
   ]
  },
  {
   "cell_type": "code",
   "execution_count": 4,
   "metadata": {},
   "outputs": [
    {
     "data": {
      "text/html": [
       "<div>\n",
       "<style scoped>\n",
       "    .dataframe tbody tr th:only-of-type {\n",
       "        vertical-align: middle;\n",
       "    }\n",
       "\n",
       "    .dataframe tbody tr th {\n",
       "        vertical-align: top;\n",
       "    }\n",
       "\n",
       "    .dataframe thead th {\n",
       "        text-align: right;\n",
       "    }\n",
       "</style>\n",
       "<table border=\"1\" class=\"dataframe\">\n",
       "  <thead>\n",
       "    <tr style=\"text-align: right;\">\n",
       "      <th></th>\n",
       "      <th>word</th>\n",
       "      <th>disgust</th>\n",
       "      <th>surprise</th>\n",
       "      <th>neutral</th>\n",
       "      <th>anger</th>\n",
       "      <th>sad</th>\n",
       "      <th>happy</th>\n",
       "      <th>fear</th>\n",
       "    </tr>\n",
       "  </thead>\n",
       "  <tbody>\n",
       "    <tr>\n",
       "      <td>0</td>\n",
       "      <td>ability</td>\n",
       "      <td>0.004464</td>\n",
       "      <td>0.047832</td>\n",
       "      <td>0.000638</td>\n",
       "      <td>0.023597</td>\n",
       "      <td>0.013393</td>\n",
       "      <td>0.015944</td>\n",
       "      <td>0.040179</td>\n",
       "    </tr>\n",
       "    <tr>\n",
       "      <td>1</td>\n",
       "      <td>able</td>\n",
       "      <td>0.000017</td>\n",
       "      <td>0.000182</td>\n",
       "      <td>0.000409</td>\n",
       "      <td>0.000176</td>\n",
       "      <td>0.000219</td>\n",
       "      <td>0.000244</td>\n",
       "      <td>0.000186</td>\n",
       "    </tr>\n",
       "    <tr>\n",
       "      <td>2</td>\n",
       "      <td>abuse</td>\n",
       "      <td>0.000532</td>\n",
       "      <td>0.000177</td>\n",
       "      <td>0.000177</td>\n",
       "      <td>0.137363</td>\n",
       "      <td>0.001241</td>\n",
       "      <td>0.001595</td>\n",
       "      <td>0.002659</td>\n",
       "    </tr>\n",
       "    <tr>\n",
       "      <td>3</td>\n",
       "      <td>academy</td>\n",
       "      <td>0.007143</td>\n",
       "      <td>0.021429</td>\n",
       "      <td>0.007143</td>\n",
       "      <td>0.007143</td>\n",
       "      <td>0.007143</td>\n",
       "      <td>0.092857</td>\n",
       "      <td>0.035714</td>\n",
       "    </tr>\n",
       "    <tr>\n",
       "      <td>4</td>\n",
       "      <td>accept</td>\n",
       "      <td>0.008271</td>\n",
       "      <td>0.006767</td>\n",
       "      <td>0.000752</td>\n",
       "      <td>0.048872</td>\n",
       "      <td>0.018797</td>\n",
       "      <td>0.024812</td>\n",
       "      <td>0.038346</td>\n",
       "    </tr>\n",
       "    <tr>\n",
       "      <td>...</td>\n",
       "      <td>...</td>\n",
       "      <td>...</td>\n",
       "      <td>...</td>\n",
       "      <td>...</td>\n",
       "      <td>...</td>\n",
       "      <td>...</td>\n",
       "      <td>...</td>\n",
       "      <td>...</td>\n",
       "    </tr>\n",
       "    <tr>\n",
       "      <td>1099</td>\n",
       "      <td>wrong</td>\n",
       "      <td>0.001244</td>\n",
       "      <td>0.004231</td>\n",
       "      <td>0.000083</td>\n",
       "      <td>0.116725</td>\n",
       "      <td>0.009209</td>\n",
       "      <td>0.002904</td>\n",
       "      <td>0.008877</td>\n",
       "    </tr>\n",
       "    <tr>\n",
       "      <td>1100</td>\n",
       "      <td>yeah</td>\n",
       "      <td>0.001401</td>\n",
       "      <td>0.037815</td>\n",
       "      <td>0.001401</td>\n",
       "      <td>0.021008</td>\n",
       "      <td>0.026611</td>\n",
       "      <td>0.032213</td>\n",
       "      <td>0.029412</td>\n",
       "    </tr>\n",
       "    <tr>\n",
       "      <td>1101</td>\n",
       "      <td>yesterday</td>\n",
       "      <td>0.002841</td>\n",
       "      <td>0.028003</td>\n",
       "      <td>0.000406</td>\n",
       "      <td>0.015016</td>\n",
       "      <td>0.032062</td>\n",
       "      <td>0.042614</td>\n",
       "      <td>0.023945</td>\n",
       "    </tr>\n",
       "    <tr>\n",
       "      <td>1102</td>\n",
       "      <td>zero</td>\n",
       "      <td>0.004762</td>\n",
       "      <td>0.033333</td>\n",
       "      <td>0.004762</td>\n",
       "      <td>0.033333</td>\n",
       "      <td>0.033333</td>\n",
       "      <td>0.004762</td>\n",
       "      <td>0.052381</td>\n",
       "    </tr>\n",
       "    <tr>\n",
       "      <td>1103</td>\n",
       "      <td>zoom</td>\n",
       "      <td>0.017857</td>\n",
       "      <td>0.053571</td>\n",
       "      <td>0.017857</td>\n",
       "      <td>0.017857</td>\n",
       "      <td>0.017857</td>\n",
       "      <td>0.089286</td>\n",
       "      <td>0.017857</td>\n",
       "    </tr>\n",
       "  </tbody>\n",
       "</table>\n",
       "<p>1104 rows × 8 columns</p>\n",
       "</div>"
      ],
      "text/plain": [
       "            word   disgust  surprise   neutral     anger       sad     happy  \\\n",
       "0       ability   0.004464  0.047832  0.000638  0.023597  0.013393  0.015944   \n",
       "1          able   0.000017  0.000182  0.000409  0.000176  0.000219  0.000244   \n",
       "2         abuse   0.000532  0.000177  0.000177  0.137363  0.001241  0.001595   \n",
       "3       academy   0.007143  0.021429  0.007143  0.007143  0.007143  0.092857   \n",
       "4        accept   0.008271  0.006767  0.000752  0.048872  0.018797  0.024812   \n",
       "...          ...       ...       ...       ...       ...       ...       ...   \n",
       "1099      wrong   0.001244  0.004231  0.000083  0.116725  0.009209  0.002904   \n",
       "1100       yeah   0.001401  0.037815  0.001401  0.021008  0.026611  0.032213   \n",
       "1101  yesterday   0.002841  0.028003  0.000406  0.015016  0.032062  0.042614   \n",
       "1102       zero   0.004762  0.033333  0.004762  0.033333  0.033333  0.004762   \n",
       "1103       zoom   0.017857  0.053571  0.017857  0.017857  0.017857  0.089286   \n",
       "\n",
       "          fear  \n",
       "0     0.040179  \n",
       "1     0.000186  \n",
       "2     0.002659  \n",
       "3     0.035714  \n",
       "4     0.038346  \n",
       "...        ...  \n",
       "1099  0.008877  \n",
       "1100  0.029412  \n",
       "1101  0.023945  \n",
       "1102  0.052381  \n",
       "1103  0.017857  \n",
       "\n",
       "[1104 rows x 8 columns]"
      ]
     },
     "execution_count": 4,
     "metadata": {},
     "output_type": "execute_result"
    }
   ],
   "source": [
    "data"
   ]
  },
  {
   "cell_type": "code",
   "execution_count": 21,
   "metadata": {},
   "outputs": [
    {
     "data": {
      "text/plain": [
       "word              able \n",
       "disgust     1.73222e-05\n",
       "surprise    0.000182393\n",
       "neutral       0.0004086\n",
       "anger       0.000176279\n",
       "sad         0.000219075\n",
       "happy        0.00024353\n",
       "fear        0.000186468\n",
       "Name: 1, dtype: object"
      ]
     },
     "execution_count": 21,
     "metadata": {},
     "output_type": "execute_result"
    }
   ],
   "source": [
    "data.iloc[1]"
   ]
  },
  {
   "cell_type": "code",
   "execution_count": 19,
   "metadata": {},
   "outputs": [],
   "source": [
    "s=0\n",
    "for i in range(len(data)):\n",
    "    s+=data.iloc[i][1]"
   ]
  },
  {
   "cell_type": "code",
   "execution_count": 20,
   "metadata": {},
   "outputs": [
    {
     "data": {
      "text/plain": [
       "14.141157655100313"
      ]
     },
     "execution_count": 20,
     "metadata": {},
     "output_type": "execute_result"
    }
   ],
   "source": [
    "s"
   ]
  },
  {
   "cell_type": "code",
   "execution_count": null,
   "metadata": {},
   "outputs": [],
   "source": []
  }
 ],
 "metadata": {
  "kernelspec": {
   "display_name": "Python 3",
   "language": "python",
   "name": "python3"
  },
  "language_info": {
   "codemirror_mode": {
    "name": "ipython",
    "version": 3
   },
   "file_extension": ".py",
   "mimetype": "text/x-python",
   "name": "python",
   "nbconvert_exporter": "python",
   "pygments_lexer": "ipython3",
   "version": "3.7.3"
  }
 },
 "nbformat": 4,
 "nbformat_minor": 2
}
